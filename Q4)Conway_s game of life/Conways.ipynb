{
 "cells": [
  {
   "cell_type": "code",
   "execution_count": 6,
   "metadata": {},
   "outputs": [],
   "source": [
    "from sage.misc.prandom import randrange\n",
    "from sage.misc.randstate import current_randstate\n",
    "(col,row)=(100,100)\n",
    "ar3 = [[randrange(2) for i in range(col)] for j in range(row)] "
   ]
  },
  {
   "cell_type": "code",
   "execution_count": 7,
   "metadata": {},
   "outputs": [
    {
     "data": {
      "image/png": "[encoded data removed]",
      "text/plain": [
       "600x600px 24-bit RGB image"
      ]
     },
     "metadata": {},
     "output_type": "display_data"
    }
   ],
   "source": [
    "from sage.repl.image import Image\n",
    "img = Image('RGB', (600, 600), 'white')\n",
    "pixels = img.pixels()\n",
    "for j in range(6):\n",
    "    for i in range(6):\n",
    "        for x in range(100):\n",
    "            for y in range(100):\n",
    "                pixels[i+x+x+x+x+x+x,j+y+y+y+y+y+y] = (255*(ar3[x][y]),255*(ar3[x][y]) , 255*(ar3[x][y]))\n",
    "p=img.show()\n",
    "img.save('t--2.png')\n"
   ]
  },
  {
   "cell_type": "code",
   "execution_count": 8,
   "metadata": {},
   "outputs": [
    {
     "data": {
      "image/png": "[encoded data removed]",
      "text/plain": [
       "600x600px 24-bit RGB image"
      ]
     },
     "metadata": {},
     "output_type": "display_data"
    }
   ],
   "source": [
    "ar2 = [[0 for i in range(col)] for j in range(row)] \n",
    "for i in range(col):\n",
    "    for j in range(row):\n",
    "        if(i!=0 and j!=0 and i!=(col-1) and j!=(row-1)):\n",
    "            ar2[i][j]=ar3[i-1][j+1]+ar3[i-1][j-1]+ar3[i-1][j]+ar3[i][j+1]+ar3[i+1][j+1]+ar3[i+1][j]+ar3[i+1][j-1]+ar3[i][j-1]\n",
    "        elif(i==0):\n",
    "            if(j!=0 and j!=(row-1)):\n",
    "                ar2[i][j]=ar3[i][j+1]+ar3[i][j-1]+ar3[i+1][j+1]+ar3[i+1][j]+ar3[i+1][j-1]\n",
    "            elif(j==0):\n",
    "                ar2[i][j]=ar3[i][j+1]+ar3[i+1][j]+ar3[i+1][j+1]\n",
    "            elif(j==(row-1)):\n",
    "                ar2[i][j]=ar3[i][j-1]+ar3[i+1][j]+ar3[i+1][j-1]\n",
    "        elif(i==(col-1)):\n",
    "            if(j!=0 and j!=(row-1)):\n",
    "                ar2[i][j]=ar3[i][j+1]+ar3[i][j-1]+ar3[i-1][j+1]+ar3[i-1][j]+ar3[i-1][j-1]\n",
    "            elif(j==0):\n",
    "                ar2[i][j]=ar3[i][j+1]+ar3[i-1][j]+ar3[i-1][j+1]\n",
    "            elif(j==(row-1)):\n",
    "                ar2[i][j]=ar3[i][j-1]+ar3[i-1][j]+ar3[i-1][j-1]\n",
    "        else:\n",
    "            if(j==0):\n",
    "                ar2[i][j]=ar3[i-1][j]+ar3[i+1][j]+ar3[i+1][j+1]+ar3[i-1][j+1]+ar3[i][j+1]\n",
    "            else:\n",
    "                ar2[i][j]=ar3[i-1][j]+ar3[i+1][j]+ar3[i-1][j-1]+ar3[i][j-1]+ar3[i+1][j-1]\n",
    "        if(ar3[i][j]==1):\n",
    "            if(ar2[i][j]==2 or ar2[i][j]==3):\n",
    "                ar2[i][j]=1\n",
    "            else:\n",
    "                ar2[i][j]=0\n",
    "        else:\n",
    "            if(ar2[i][j]==3):\n",
    "                ar2[i][j]=1\n",
    "            else:\n",
    "                ar2[i][j]=0\n",
    "        \n",
    "            \n",
    "for j in range(6):\n",
    "    for i in range(6):\n",
    "        for x in range(100):\n",
    "            for y in range(100):\n",
    "                pixels[i+x+x+x+x+x+x,j+y+y+y+y+y+y] = (255*(ar2[x][y]),255*(ar2[x][y]) , 255*(ar2[x][y]))\n",
    "img.show()\n",
    "img.save('t--1.png')"
   ]
  },
  {
   "cell_type": "code",
   "execution_count": 9,
   "metadata": {},
   "outputs": [],
   "source": [
    "for u in range(40):     \n",
    "    ar3=ar2\n",
    "    ar2 = [[0 for i in range(col)] for j in range(row)] \n",
    "    for i in range(col):\n",
    "        for j in range(row):\n",
    "            if(i!=0 and j!=0 and i!=(col-1) and j!=(row-1)):\n",
    "                ar2[i][j]=ar3[i-1][j+1]+ar3[i-1][j-1]+ar3[i-1][j]+ar3[i][j+1]+ar3[i+1][j+1]+ar3[i+1][j]+ar3[i+1][j-1]+ar3[i][j-1]\n",
    "            elif(i==0):\n",
    "                if(j!=0 and j!=(row-1)):\n",
    "                    ar2[i][j]=ar3[i][j+1]+ar3[i][j-1]+ar3[i+1][j+1]+ar3[i+1][j]+ar3[i+1][j-1]\n",
    "                elif(j==0):\n",
    "                    ar2[i][j]=ar3[i][j+1]+ar3[i+1][j]+ar3[i+1][j+1]\n",
    "                elif(j==(row-1)):\n",
    "                    ar2[i][j]=ar3[i][j-1]+ar3[i+1][j]+ar3[i+1][j-1]\n",
    "            elif(i==(col-1)):\n",
    "                if(j!=0 and j!=(row-1)):\n",
    "                    ar2[i][j]=ar3[i][j+1]+ar3[i][j-1]+ar3[i-1][j+1]+ar3[i-1][j]+ar3[i-1][j-1]\n",
    "                elif(j==0):\n",
    "                    ar2[i][j]=ar3[i][j+1]+ar3[i-1][j]+ar3[i-1][j+1]\n",
    "                elif(j==(row-1)):\n",
    "                    ar2[i][j]=ar3[i][j-1]+ar3[i-1][j]+ar3[i-1][j-1]\n",
    "            else:\n",
    "                if(j==0):\n",
    "                    ar2[i][j]=ar3[i-1][j]+ar3[i+1][j]+ar3[i+1][j+1]+ar3[i-1][j+1]+ar3[i][j+1]\n",
    "                else:\n",
    "                    ar2[i][j]=ar3[i-1][j]+ar3[i+1][j]+ar3[i-1][j-1]+ar3[i][j-1]+ar3[i+1][j-1]\n",
    "            if(ar3[i][j]==1):\n",
    "                if(ar2[i][j]==2 or ar2[i][j]==3):\n",
    "                    ar2[i][j]=1\n",
    "                else:\n",
    "                    ar2[i][j]=0\n",
    "            else:\n",
    "                if(ar2[i][j]==3):\n",
    "                    ar2[i][j]=1\n",
    "                else:\n",
    "                    ar2[i][j]=0\n",
    "    for j in range(6):\n",
    "        for i in range(6):\n",
    "            for x in range(100):\n",
    "                for y in range(100):\n",
    "                    pixels[i+x+x+x+x+x+x,j+y+y+y+y+y+y] = (255*(ar2[x][y]),255*(ar2[x][y]) , 255*(ar2[x][y]))\n",
    "    img.save('t-%s.png' %(u))\n"
   ]
  },
  {
   "cell_type": "code",
   "execution_count": null,
   "metadata": {},
   "outputs": [],
   "source": []
  }
 ],
 "metadata": {
  "kernelspec": {
   "display_name": "SageMath 8.1",
   "language": "",
   "name": "sagemath"
  },
  "language_info": {
   "codemirror_mode": {
    "name": "ipython",
    "version": 2
   },
   "file_extension": ".py",
   "mimetype": "text/x-python",
   "name": "python",
   "nbconvert_exporter": "python",
   "pygments_lexer": "ipython2",
   "version": "2.7.15+"
  }
 },
 "nbformat": 4,
 "nbformat_minor": 2
}
